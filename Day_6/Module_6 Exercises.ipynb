{
 "cells": [
  {
   "cell_type": "markdown",
   "metadata": {},
   "source": [
    "Module 6 Exercises"
   ]
  },
  {
   "cell_type": "code",
   "execution_count": 42,
   "metadata": {},
   "outputs": [
    {
     "name": "stdout",
     "output_type": "stream",
     "text": [
      "{'name': 'Bruno', 'color': 'brown', 'breed': 'Alsatian', 'legs': 'thin'}\n",
      "9\n",
      "['spss', 'python', 'c++', 'R']\n",
      "<class 'list'>\n",
      "{'first_name': 'George', 'last_name': 'Brown', 'gender': 'male', 'age': 15, 'marital status': 'single', 'skills': ['spss', 'python', 'c++', 'R', 'HTML', 'Scratch'], 'country': 'portugal', 'city': 'Rio', 'address': '456, sweetdim street, Rio, Portugal'}\n",
      "dict_keys(['first_name', 'last_name', 'gender', 'age', 'marital status', 'skills', 'country', 'city', 'address'])\n",
      "dict_values(['George', 'Brown', 'male', 15, 'single', ['spss', 'python', 'c++', 'R', 'HTML', 'Scratch'], 'portugal', 'Rio', '456, sweetdim street, Rio, Portugal'])\n",
      "dict_items([('first_name', 'George'), ('last_name', 'Brown'), ('gender', 'male'), ('age', 15), ('marital status', 'single'), ('skills', ['spss', 'python', 'c++', 'R', 'HTML', 'Scratch']), ('country', 'portugal'), ('city', 'Rio'), ('address', '456, sweetdim street, Rio, Portugal')])\n",
      "{'first_name': 'George', 'last_name': 'Brown', 'gender': 'male', 'age': 15, 'marital status': 'single', 'skills': ['spss', 'python', 'c++', 'R', 'HTML', 'Scratch'], 'country': 'portugal', 'city': 'Rio'}\n"
     ]
    }
   ],
   "source": [
    "#1\n",
    "dog = {}\n",
    "#2\n",
    "dog['name'] = 'Bruno'\n",
    "dog['color'] = 'brown'\n",
    "dog['breed'] = 'Alsatian'\n",
    "dog['legs'] = 'thin'\n",
    "print(dog)\n",
    "#3\n",
    "student = {'first_name': 'George', 'last_name': 'Brown', 'gender': 'male', 'age': 15, 'marital status': 'single', 'skills': ['spss', 'python', 'c++', 'R'], 'country': 'portugal', 'city': 'Rio', 'address': '456, sweetdim street, Rio, Portugal'}\n",
    "#4\n",
    "print(len(student))\n",
    "#5\n",
    "values = student['skills']\n",
    "print(values)\n",
    "print(type(student['skills']))\n",
    "#6\n",
    "student['skills'].append('HTML'),student['skills'].append('Scratch')\n",
    "print(student)\n",
    "#7\n",
    "keys = student.keys()\n",
    "print(keys)\n",
    "#8\n",
    "values = student.values()\n",
    "print(values)\n",
    "#9\n",
    "print(student.items())\n",
    "#10\n",
    "del student['address']\n",
    "print(student)\n",
    "#11\n",
    "del dog"
   ]
  }
 ],
 "metadata": {
  "kernelspec": {
   "display_name": "Python 3",
   "language": "python",
   "name": "python3"
  },
  "language_info": {
   "codemirror_mode": {
    "name": "ipython",
    "version": 3
   },
   "file_extension": ".py",
   "mimetype": "text/x-python",
   "name": "python",
   "nbconvert_exporter": "python",
   "pygments_lexer": "ipython3",
   "version": "3.12.8"
  }
 },
 "nbformat": 4,
 "nbformat_minor": 2
}
