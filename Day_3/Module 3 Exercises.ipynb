{
 "cells": [
  {
   "cell_type": "markdown",
   "metadata": {},
   "source": [
    "Module 3 Exercises"
   ]
  },
  {
   "cell_type": "code",
   "execution_count": null,
   "metadata": {},
   "outputs": [],
   "source": [
    "# 1\n",
    "age = 39\n",
    "# 2\n",
    "height = 1.6\n",
    "# 3\n",
    "x = 1 + 2j"
   ]
  },
  {
   "cell_type": "code",
   "execution_count": 11,
   "metadata": {},
   "outputs": [
    {
     "name": "stdout",
     "output_type": "stream",
     "text": [
      "The area of the triangle is 100\n"
     ]
    }
   ],
   "source": [
    "#4\n",
    "b = input('Enter base')\n",
    "h = input('Enter height')\n",
    "area = 0.5 * int(b) * int(h)\n",
    "print('The area of the triangle is', int(area))"
   ]
  },
  {
   "cell_type": "code",
   "execution_count": null,
   "metadata": {},
   "outputs": [
    {
     "name": "stdout",
     "output_type": "stream",
     "text": [
      "The perimeter of the triangle is 12\n"
     ]
    }
   ],
   "source": [
    "# 5\n",
    "a = input('Enter side a')\n",
    "b = input('Enter side b')\n",
    "c = input('Enter side c')\n",
    "perimeter = int(a) + int(b) + int(c)\n",
    "print('The perimeter of the triangle is', perimeter)"
   ]
  },
  {
   "cell_type": "code",
   "execution_count": null,
   "metadata": {},
   "outputs": [
    {
     "name": "stdout",
     "output_type": "stream",
     "text": [
      "The area of the rectangle is 32\n",
      "The perimeter of the rectangle is 24\n"
     ]
    }
   ],
   "source": [
    "# 6\n",
    "# taking length as 4 and width as 8\n",
    "length = input('Enter length')\n",
    "width = input('Enter width')\n",
    "area = int(length) * int(width)\n",
    "perimeter = 2 * (int(length) + int(width))\n",
    "print('The area of the rectangle is', area)\n",
    "print('The perimeter of the rectangle is', perimeter)"
   ]
  },
  {
   "cell_type": "code",
   "execution_count": null,
   "metadata": {},
   "outputs": [
    {
     "name": "stdout",
     "output_type": "stream",
     "text": [
      "The area of the circle is 28.26\n",
      "The area of the circumference is 18.84\n"
     ]
    }
   ],
   "source": [
    "# 7\n",
    "# taking radius r as 3\n",
    "r = input('enter the radius')\n",
    "pi = 3.14\n",
    "area = pi * int(r) * int(r)\n",
    "c = 2 * pi * int(r)\n",
    "print('The area of the circle is', round(area, 2))\n",
    "print('The area of the circumference is', c)"
   ]
  },
  {
   "cell_type": "code",
   "execution_count": null,
   "metadata": {},
   "outputs": [
    {
     "name": "stdout",
     "output_type": "stream",
     "text": [
      "The slope is 2.0\n",
      "The  euclidean_distance is 8.94\n"
     ]
    }
   ],
   "source": [
    "# 8\n",
    "# Slope for y = 2x - 2 using y= mx + c where m = slope\n",
    "slope = 2\n",
    "#9\n",
    "x1 = 2\n",
    "y1 = 2\n",
    "x2 = 6\n",
    "y2 = 10\n",
    "m = (y2-y1)/(x2-x1)\n",
    "print('The slope is', m)\n",
    "import math\n",
    "#  is calculated by sqrt((X2-X1)**2 + (Y2-Y1)**2)\n",
    "euclidean_distance = math.sqrt((x2-x1)**2 + (y2-y1)**2)\n",
    "print('The  euclidean_distance is', round(euclidean_distance, 2))\n",
    "#10\n",
    "# The slope m = 2 for 8 and 9"
   ]
  },
  {
   "cell_type": "code",
   "execution_count": null,
   "metadata": {},
   "outputs": [
    {
     "name": "stdout",
     "output_type": "stream",
     "text": [
      "0\n"
     ]
    }
   ],
   "source": [
    "# 11\n",
    "x = input('enter x')\n",
    "y = int(x)**2 + (6*int(x)) + 9\n",
    "print(y)\n",
    "# at x = -3 y = 0"
   ]
  },
  {
   "cell_type": "code",
   "execution_count": null,
   "metadata": {},
   "outputs": [
    {
     "name": "stdout",
     "output_type": "stream",
     "text": [
      "6\n",
      "6\n",
      "True\n",
      "False\n"
     ]
    }
   ],
   "source": [
    "#12\n",
    "length_of_python = len('python')\n",
    "length_of_dragon = len('dragon')\n",
    "print(length_of_python)\n",
    "print(length_of_dragon)\n",
    "print(length_of_python == length_of_dragon)\n",
    "print(not True)"
   ]
  },
  {
   "cell_type": "code",
   "execution_count": 28,
   "metadata": {},
   "outputs": [
    {
     "name": "stdout",
     "output_type": "stream",
     "text": [
      "True\n"
     ]
    }
   ],
   "source": [
    "# 13\n",
    "print(('on' in 'python') is ('on' in 'dragon'))"
   ]
  },
  {
   "cell_type": "code",
   "execution_count": 29,
   "metadata": {},
   "outputs": [
    {
     "name": "stdout",
     "output_type": "stream",
     "text": [
      "True\n"
     ]
    }
   ],
   "source": [
    "#14\n",
    "print('jargon' in 'I hope this course is not full of jargon')"
   ]
  },
  {
   "cell_type": "code",
   "execution_count": 30,
   "metadata": {},
   "outputs": [
    {
     "name": "stdout",
     "output_type": "stream",
     "text": [
      "False\n"
     ]
    }
   ],
   "source": [
    "#15\n",
    "print(not(('on' in 'python') is ('on' in 'dragon')))"
   ]
  },
  {
   "cell_type": "code",
   "execution_count": null,
   "metadata": {},
   "outputs": [
    {
     "name": "stdout",
     "output_type": "stream",
     "text": [
      "6\n",
      "6.0\n",
      "6.0\n"
     ]
    }
   ],
   "source": [
    "# 16\n",
    "length_p = len('python')\n",
    "print(length_p)\n",
    "length_p = float(length_p)\n",
    "print(length_p)\n",
    "length_p = str(length_p)\n",
    "print(length_p)"
   ]
  },
  {
   "cell_type": "code",
   "execution_count": null,
   "metadata": {},
   "outputs": [
    {
     "name": "stdout",
     "output_type": "stream",
     "text": [
      "0\n",
      "1\n",
      "1\n"
     ]
    }
   ],
   "source": [
    "# 17\n",
    "# To check if a number is even use modulus to return zero or the remainder\n",
    "print(10 % 2)\n",
    "print(11 % 2)\n",
    "print(9 % 2)\n",
    "# 10 is even while 11 and 9 are not"
   ]
  },
  {
   "cell_type": "code",
   "execution_count": null,
   "metadata": {},
   "outputs": [
    {
     "name": "stdout",
     "output_type": "stream",
     "text": [
      "True\n"
     ]
    }
   ],
   "source": [
    "# 18\n",
    "print((7//3) == int(2.7))\n",
    "# It is equal"
   ]
  },
  {
   "cell_type": "code",
   "execution_count": null,
   "metadata": {},
   "outputs": [
    {
     "name": "stdout",
     "output_type": "stream",
     "text": [
      "<class 'str'>\n"
     ]
    },
    {
     "data": {
      "text/plain": [
       "False"
      ]
     },
     "execution_count": 42,
     "metadata": {},
     "output_type": "execute_result"
    }
   ],
   "source": [
    "# 19\n",
    "print(type('10')) == (type(10))\n",
    "# It is not thesame"
   ]
  },
  {
   "cell_type": "code",
   "execution_count": null,
   "metadata": {},
   "outputs": [
    {
     "name": "stdout",
     "output_type": "stream",
     "text": [
      "False\n"
     ]
    }
   ],
   "source": [
    "# 20\n",
    "print(int(9.8) == 10)\n",
    "# It is not, but including '' returns an error"
   ]
  },
  {
   "cell_type": "code",
   "execution_count": null,
   "metadata": {},
   "outputs": [
    {
     "name": "stdout",
     "output_type": "stream",
     "text": [
      "Your weekly earning is 1120\n"
     ]
    }
   ],
   "source": [
    "#21\n",
    "hours = input('Enter hours')\n",
    "rate = input('Enter rate')\n",
    "weekly_earning = int(hours)*int(rate)\n",
    "print('Your weekly earning is', weekly_earning)"
   ]
  },
  {
   "cell_type": "code",
   "execution_count": null,
   "metadata": {},
   "outputs": [
    {
     "name": "stdout",
     "output_type": "stream",
     "text": [
      "You have lived for 3153600000 seconds.\n"
     ]
    }
   ],
   "source": [
    "#22\n",
    "years = input('Enter number of years')\n",
    "number_of_seconds = int(years)*365*24*60*60\n",
    "print('You have lived for', number_of_seconds, 'seconds.')"
   ]
  },
  {
   "cell_type": "code",
   "execution_count": null,
   "metadata": {},
   "outputs": [
    {
     "name": "stdout",
     "output_type": "stream",
     "text": [
      "1 1 1 1 1\n",
      "2 1 2 4 8\n",
      "3 1 3 9 27\n",
      "4 1 4 16 64\n",
      "5 1 5 25 125\n"
     ]
    }
   ],
   "source": [
    "# 23\n",
    "a = 1\n",
    "b = 2\n",
    "c = 3\n",
    "d = 4\n",
    "e = 5\n",
    "print(a, a, a, a, a)\n",
    "print(b, a, b, d, d*2)\n",
    "print(c, a, c, c**2, c**3)\n",
    "print(d, a, d, d**2, d**3)\n",
    "print(e, a, e, e**2, e**3)"
   ]
  }
 ],
 "metadata": {
  "kernelspec": {
   "display_name": "Python 3",
   "language": "python",
   "name": "python3"
  },
  "language_info": {
   "codemirror_mode": {
    "name": "ipython",
    "version": 3
   },
   "file_extension": ".py",
   "mimetype": "text/x-python",
   "name": "python",
   "nbconvert_exporter": "python",
   "pygments_lexer": "ipython3",
   "version": "3.12.8"
  }
 },
 "nbformat": 4,
 "nbformat_minor": 2
}
