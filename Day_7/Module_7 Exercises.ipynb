{
 "cells": [
  {
   "cell_type": "markdown",
   "metadata": {},
   "source": [
    "Exercises: Level 1"
   ]
  },
  {
   "cell_type": "code",
   "execution_count": null,
   "metadata": {},
   "outputs": [
    {
     "name": "stdout",
     "output_type": "stream",
     "text": [
      "You need 3 more years to learn to drive.\n"
     ]
    }
   ],
   "source": [
    "#1\n",
    "age = input('Enter your age:')\n",
    "if int(age) >= 18:\n",
    "    print('You are old enough to drive')\n",
    "else:\n",
    "    print('You need', 18 - int(age), 'more years to learn to drive.')"
   ]
  },
  {
   "cell_type": "code",
   "execution_count": null,
   "metadata": {},
   "outputs": [
    {
     "name": "stdout",
     "output_type": "stream",
     "text": [
      "30\n",
      "You are 5 years older than me\n"
     ]
    }
   ],
   "source": [
    "#2\n",
    "my_age = 25\n",
    "your_age = input('Enter your age:')\n",
    "print(your_age)\n",
    "if int(your_age) == (int(my_age)+1):\n",
    "    print('1 year difference in age')\n",
    "elif int(your_age) > int(my_age):\n",
    "    print('You are', int(your_age) - int(my_age), 'years older than me')\n",
    "else:\n",
    "    print('We are age mates')"
   ]
  },
  {
   "cell_type": "code",
   "execution_count": 11,
   "metadata": {},
   "outputs": [
    {
     "name": "stdout",
     "output_type": "stream",
     "text": [
      "4\n",
      "3\n",
      "4 is greater than 3\n"
     ]
    }
   ],
   "source": [
    "#3\n",
    "a = input('Enter the value of a')\n",
    "b = input('Enter the value of b')\n",
    "print(a)\n",
    "print(b)\n",
    "if int(a) < int(b):\n",
    "    print(int(a), 'is smaller than', int(b))\n",
    "elif int(a) > int(b):\n",
    "    print(int(a),'is greater than', int(b))\n",
    "else:\n",
    "    print(int(a), 'is equal to', int(b))"
   ]
  },
  {
   "cell_type": "markdown",
   "metadata": {},
   "source": [
    "Exercises: Level 2"
   ]
  },
  {
   "cell_type": "code",
   "execution_count": 15,
   "metadata": {},
   "outputs": [
    {
     "name": "stdout",
     "output_type": "stream",
     "text": [
      "45 F\n",
      "60 C\n",
      "75 B\n",
      "80 A\n",
      "90 A\n",
      "59 D\n"
     ]
    }
   ],
   "source": [
    "scores = [45, 60, 75, 80, 90, 59]\n",
    "for score in scores:\n",
    "    if score >= 80:\n",
    "        print(score, 'A')\n",
    "    elif score >= 70:\n",
    "        print(score, 'B')\n",
    "    elif score >= 60:\n",
    "        print(score, 'C')\n",
    "    elif score >= 50:\n",
    "        print(score, 'D')\n",
    "    else:\n",
    "        print(score, 'F')"
   ]
  },
  {
   "cell_type": "code",
   "execution_count": 25,
   "metadata": {},
   "outputs": [
    {
     "name": "stdout",
     "output_type": "stream",
     "text": [
      "The season is Summer\n"
     ]
    }
   ],
   "source": [
    "#2\n",
    "month = input('Enter the month')\n",
    "if month == 'September' or month =='October' or month =='November':\n",
    "    print('The season is Autumn')\n",
    "elif month == 'December' or month =='January' or month == 'February':\n",
    "    print('The season is Winter')\n",
    "elif month == 'March' or month =='April' or month =='May':\n",
    "   print('The season is Spring')\n",
    "else:\n",
    "    print('The season is Summer')"
   ]
  },
  {
   "cell_type": "code",
   "execution_count": 57,
   "metadata": {},
   "outputs": [
    {
     "name": "stdout",
     "output_type": "stream",
     "text": [
      "apple\n",
      "['banana', 'orange', 'mango', 'lemon', 'apple']\n"
     ]
    }
   ],
   "source": [
    "#3\n",
    "fruit = input('Enter fruit')\n",
    "fruits = ['banana', 'orange', 'mango', 'lemon']\n",
    "if fruit in fruits:\n",
    "    print('That fruit already exist in the list')\n",
    "else:\n",
    "    fruits.append(fruit)\n",
    "    print(fruit)\n",
    "    print(fruits)\n"
   ]
  },
  {
   "cell_type": "markdown",
   "metadata": {},
   "source": [
    "Exercises: Level 3"
   ]
  },
  {
   "cell_type": "code",
   "execution_count": null,
   "metadata": {},
   "outputs": [
    {
     "name": "stdout",
     "output_type": "stream",
     "text": [
      "True\n",
      "True\n"
     ]
    }
   ],
   "source": [
    "person={'first_name': 'Asabeneh', 'last_name': 'Yetayeh', 'age': 250, 'country': 'Finland', 'is_marred': True,\n",
    "    'skills': ['JavaScript', 'React', 'Node', 'MongoDB', 'Python'],\n",
    "    'address': {'street': 'Space street','zipcode': '02210'}}\n",
    "print('skills' in person)\n",
    "print('Python' in person['skills'])"
   ]
  },
  {
   "cell_type": "code",
   "execution_count": 102,
   "metadata": {},
   "outputs": [
    {
     "name": "stdout",
     "output_type": "stream",
     "text": [
      "He is a front end developer\n",
      "He is a backend developer\n",
      "He is a fullstack developer\n"
     ]
    }
   ],
   "source": [
    "Skills_person = {'firstperson': ['JavaScript', 'React'], 'secondperson':['Node', 'Python', 'MongoDB'], 'thirdperson': ['React', 'Node','MongoDB']}\n",
    "for sp in Skills_person:\n",
    "    if sp == 'firstperson' in Skills_person:\n",
    "        print('He is a front end developer')\n",
    "    elif sp == 'secondperson' in Skills_person:\n",
    "        print('He is a backend developer')\n",
    "    elif sp == 'thirdperson' in Skills_person:\n",
    "        print('He is a fullstack developer')\n",
    "    else:\n",
    "        print('unknown title')"
   ]
  },
  {
   "cell_type": "code",
   "execution_count": 128,
   "metadata": {},
   "outputs": [
    {
     "name": "stdout",
     "output_type": "stream",
     "text": [
      "Asabeneh Yetayeh lives in Finland. He is married.\n"
     ]
    }
   ],
   "source": [
    "person={'first_name': 'Asabeneh', 'last_name': 'Yetayeh', 'age': 250, 'country': 'Finland.', 'is_marred': True,\n",
    "'skills': ['JavaScript', 'React'],\n",
    "'address': {'street': 'Space street','zipcode': '02210'}}\n",
    "print(person['first_name'], person['last_name'],'lives in', person['country'], 'He is married.')"
   ]
  }
 ],
 "metadata": {
  "kernelspec": {
   "display_name": "Python 3",
   "language": "python",
   "name": "python3"
  },
  "language_info": {
   "codemirror_mode": {
    "name": "ipython",
    "version": 3
   },
   "file_extension": ".py",
   "mimetype": "text/x-python",
   "name": "python",
   "nbconvert_exporter": "python",
   "pygments_lexer": "ipython3",
   "version": "3.12.8"
  }
 },
 "nbformat": 4,
 "nbformat_minor": 2
}
