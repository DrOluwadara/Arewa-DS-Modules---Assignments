{
 "cells": [
  {
   "cell_type": "code",
   "execution_count": 3,
   "metadata": {},
   "outputs": [
    {
     "name": "stdout",
     "output_type": "stream",
     "text": [
      "Thirty Days Of Python\n"
     ]
    }
   ],
   "source": [
    "# 1\n",
    "challenge = ['Thirty', 'Days', 'Of', 'Python']\n",
    "challenge_ = ' '.join(challenge)\n",
    "print(challenge_)"
   ]
  },
  {
   "cell_type": "code",
   "execution_count": 7,
   "metadata": {},
   "outputs": [
    {
     "name": "stdout",
     "output_type": "stream",
     "text": [
      "Coding For All\n"
     ]
    }
   ],
   "source": [
    "#2\n",
    "Cis = ['Coding', 'For', 'All']\n",
    "Cis_ = ' '.join(Cis)\n",
    "print(Cis_)"
   ]
  },
  {
   "cell_type": "code",
   "execution_count": null,
   "metadata": {},
   "outputs": [
    {
     "name": "stdout",
     "output_type": "stream",
     "text": [
      "Coding For All\n",
      "14\n",
      "CODING FOR ALL\n",
      "coding for all\n"
     ]
    }
   ],
   "source": [
    "#3 \n",
    "company = \"Coding For All\"\n",
    "\n",
    "#4\n",
    "print(company)\n",
    "\n",
    "#5\n",
    "print(len(company))\n",
    "\n",
    "#6\n",
    "print(company.upper())\n",
    "\n",
    "#7\n",
    "print(company.lower())\n"
   ]
  },
  {
   "cell_type": "code",
   "execution_count": 14,
   "metadata": {},
   "outputs": [
    {
     "name": "stdout",
     "output_type": "stream",
     "text": [
      "Coding for all\n",
      "Coding For All\n",
      "cODING fOR aLL\n"
     ]
    }
   ],
   "source": [
    "#8\n",
    "print(company.capitalize())\n",
    "print(company.title())\n",
    "print(company.swapcase())"
   ]
  },
  {
   "cell_type": "code",
   "execution_count": 19,
   "metadata": {},
   "outputs": [
    {
     "name": "stdout",
     "output_type": "stream",
     "text": [
      "Coding\n"
     ]
    }
   ],
   "source": [
    "#9\n",
    "sl = company[0:6]\n",
    "print(sl)"
   ]
  },
  {
   "cell_type": "code",
   "execution_count": 22,
   "metadata": {},
   "outputs": [
    {
     "name": "stdout",
     "output_type": "stream",
     "text": [
      "0\n"
     ]
    }
   ],
   "source": [
    "#10\n",
    "de = 'Coding'\n",
    "print(company.index(de))"
   ]
  },
  {
   "cell_type": "code",
   "execution_count": 25,
   "metadata": {},
   "outputs": [
    {
     "name": "stdout",
     "output_type": "stream",
     "text": [
      "Python For All\n"
     ]
    }
   ],
   "source": [
    "#11\n",
    "ge = company.replace('Coding', 'Python')\n",
    "print(ge)\n",
    "\n"
   ]
  },
  {
   "cell_type": "code",
   "execution_count": 26,
   "metadata": {},
   "outputs": [
    {
     "name": "stdout",
     "output_type": "stream",
     "text": [
      "Python For All\n"
     ]
    }
   ],
   "source": [
    "#12\n",
    "gt = 'Python for Everyone'\n",
    "gy = ge.replace('Everyone', 'All')\n",
    "print(gy)"
   ]
  },
  {
   "cell_type": "code",
   "execution_count": null,
   "metadata": {},
   "outputs": [
    {
     "name": "stdout",
     "output_type": "stream",
     "text": [
      "['Coding', 'For', 'All']\n"
     ]
    }
   ],
   "source": [
    "#13\n",
    "company_ = 'Coding For All'\n",
    "print(company_.split())"
   ]
  },
  {
   "cell_type": "code",
   "execution_count": null,
   "metadata": {},
   "outputs": [
    {
     "name": "stdout",
     "output_type": "stream",
     "text": [
      "['Facebook', ' Google', ' Microsoft', ' Apple', ' IBM', ' Oracle', ' Amazon']\n"
     ]
    }
   ],
   "source": [
    "#14\n",
    "tech = 'Facebook, Google, Microsoft, Apple, IBM, Oracle, Amazon'\n",
    "print(tech.split(','))"
   ]
  },
  {
   "cell_type": "code",
   "execution_count": null,
   "metadata": {},
   "outputs": [
    {
     "name": "stdout",
     "output_type": "stream",
     "text": [
      "C\n",
      "l\n",
      " \n"
     ]
    }
   ],
   "source": [
    "#15\n",
    "y = 'Coding for All'\n",
    "y_ = y[0]\n",
    "print(y_)\n",
    "\n",
    "#16\n",
    "print(y[-1])\n",
    "\n",
    "#17\n",
    "print(y[10])\n",
    "# for character 10 it is space"
   ]
  },
  {
   "cell_type": "code",
   "execution_count": 128,
   "metadata": {},
   "outputs": [
    {
     "name": "stdout",
     "output_type": "stream",
     "text": [
      "PFE\n"
     ]
    }
   ],
   "source": [
    "#18\n",
    "kk = \"Python For Everyone\"\n",
    "kk_ = kk[0], kk[7], kk[11]\n",
    "kkk = ''.join(kk_)\n",
    "print(kkk)"
   ]
  },
  {
   "cell_type": "code",
   "execution_count": 125,
   "metadata": {},
   "outputs": [
    {
     "name": "stdout",
     "output_type": "stream",
     "text": [
      "CFA\n"
     ]
    }
   ],
   "source": [
    "#19\n",
    "ww = 'Coding For All'\n",
    "ww_= ww[0], ww[7], ww[11]\n",
    "www = ''.join(ww_)\n",
    "print(www)"
   ]
  },
  {
   "cell_type": "code",
   "execution_count": 54,
   "metadata": {},
   "outputs": [
    {
     "name": "stdout",
     "output_type": "stream",
     "text": [
      "0\n"
     ]
    }
   ],
   "source": [
    "#20\n",
    "ax = 'Coding For All'\n",
    "ax_ = 'C'\n",
    "print(ax.index(ax_))"
   ]
  },
  {
   "cell_type": "code",
   "execution_count": 51,
   "metadata": {},
   "outputs": [
    {
     "name": "stdout",
     "output_type": "stream",
     "text": [
      "7\n"
     ]
    }
   ],
   "source": [
    "#21\n",
    "ay_ = 'F'\n",
    "print(ax.index(ay_))"
   ]
  },
  {
   "cell_type": "code",
   "execution_count": 52,
   "metadata": {},
   "outputs": [
    {
     "name": "stdout",
     "output_type": "stream",
     "text": [
      "19\n"
     ]
    }
   ],
   "source": [
    "#22\n",
    "yy ='Coding For All People'\n",
    "yy_ = yy.rfind('l')\n",
    "print(yy_)"
   ]
  },
  {
   "cell_type": "code",
   "execution_count": 57,
   "metadata": {},
   "outputs": [
    {
     "name": "stdout",
     "output_type": "stream",
     "text": [
      "31\n",
      "31\n"
     ]
    }
   ],
   "source": [
    "#23\n",
    "sen = 'You cannot end a sentence with because because because is a conjunction'\n",
    "print(sen.index('because'))\n",
    "print(sen.find('because'))"
   ]
  },
  {
   "cell_type": "code",
   "execution_count": 60,
   "metadata": {},
   "outputs": [
    {
     "name": "stdout",
     "output_type": "stream",
     "text": [
      "47\n"
     ]
    }
   ],
   "source": [
    "#24\n",
    "print(sen.rindex('because'))"
   ]
  },
  {
   "cell_type": "code",
   "execution_count": 65,
   "metadata": {},
   "outputs": [
    {
     "name": "stdout",
     "output_type": "stream",
     "text": [
      "['You cannot end a sentence with ', ' ', ' ', ' is a conjunction']\n"
     ]
    }
   ],
   "source": [
    "#25\n",
    "print(sen.split('because'))"
   ]
  },
  {
   "cell_type": "code",
   "execution_count": null,
   "metadata": {},
   "outputs": [
    {
     "name": "stdout",
     "output_type": "stream",
     "text": [
      "31\n"
     ]
    }
   ],
   "source": [
    "#26\n",
    "print(sen.index('because'))\n",
    "#27"
   ]
  },
  {
   "cell_type": "code",
   "execution_count": 69,
   "metadata": {},
   "outputs": [
    {
     "name": "stdout",
     "output_type": "stream",
     "text": [
      "['You cannot end a sentence with ', ' ', ' ', ' is a conjunction']\n"
     ]
    }
   ],
   "source": [
    "#27\n",
    "print(sen.split('because'))"
   ]
  },
  {
   "cell_type": "code",
   "execution_count": null,
   "metadata": {},
   "outputs": [
    {
     "name": "stdout",
     "output_type": "stream",
     "text": [
      "True\n",
      "False\n"
     ]
    }
   ],
   "source": [
    "#28\n",
    "c = 'Coding For All'\n",
    "print(c.startswith('Coding'))\n",
    "\n",
    "#29\n",
    "print(c.endswith('Coding'))"
   ]
  },
  {
   "cell_type": "code",
   "execution_count": 73,
   "metadata": {},
   "outputs": [
    {
     "name": "stdout",
     "output_type": "stream",
     "text": [
      "Coding For All\n"
     ]
    }
   ],
   "source": [
    "#30\n",
    "d = ' Coding For All '\n",
    "print(d.strip())"
   ]
  },
  {
   "cell_type": "code",
   "execution_count": null,
   "metadata": {},
   "outputs": [
    {
     "name": "stdout",
     "output_type": "stream",
     "text": [
      "False\n",
      "True\n"
     ]
    }
   ],
   "source": [
    "#31\n",
    "t = '30DaysOfPython'\n",
    "print(t.isidentifier())\n",
    "\n",
    "ty = 'thirty_days_of_python'\n",
    "print(ty.isidentifier())\n",
    "\n",
    "# The second variable returned true"
   ]
  },
  {
   "cell_type": "code",
   "execution_count": 77,
   "metadata": {},
   "outputs": [
    {
     "name": "stdout",
     "output_type": "stream",
     "text": [
      "Django# Flask# Bottle# Pyramid# Falcon\n"
     ]
    }
   ],
   "source": [
    "#32\n",
    "python_libraries = ['Django', 'Flask','Bottle', 'Pyramid', 'Falcon']\n",
    "pythonlibraries = '# '.join(python_libraries)\n",
    "print(pythonlibraries)"
   ]
  },
  {
   "cell_type": "code",
   "execution_count": 2,
   "metadata": {},
   "outputs": [
    {
     "name": "stdout",
     "output_type": "stream",
     "text": [
      "\n",
      "I am enjoying this challenge. \n",
      "I just winder what is next\n"
     ]
    }
   ],
   "source": [
    "#33\n",
    "vb = 'I am enjoying this challenge. I just winder what is next'\n",
    "vb_ =  '\\r\\nI am enjoying this challenge. \\r\\nI just winder what is next'\n",
    "print(vb_)"
   ]
  },
  {
   "cell_type": "code",
   "execution_count": 3,
   "metadata": {},
   "outputs": [
    {
     "name": "stdout",
     "output_type": "stream",
     "text": [
      "Name \t\tAge \tCountry \tCity \n",
      "Asabeneh \t250 \tFinland \tHelsinki\n"
     ]
    }
   ],
   "source": [
    "#34\n",
    "\n",
    "vv = 'Name \\t\\tAge \\tCountry \\tCity \\r\\nAsabeneh \\t250 \\tFinland \\tHelsinki'\n",
    "print(vv)"
   ]
  },
  {
   "cell_type": "code",
   "execution_count": 84,
   "metadata": {},
   "outputs": [
    {
     "name": "stdout",
     "output_type": "stream",
     "text": [
      "The area of a circle with radius 10 is 314.0 meters square\n"
     ]
    }
   ],
   "source": [
    "#35\n",
    "radius = 10\n",
    "area = 3.14 * radius ** 2\n",
    "print('The area of a circle with radius {} is {} meters square'.format(radius, area))"
   ]
  },
  {
   "cell_type": "code",
   "execution_count": null,
   "metadata": {},
   "outputs": [
    {
     "name": "stdout",
     "output_type": "stream",
     "text": [
      "8 + 6 = 14\n",
      "8 + 6 = 2\n",
      "8 + 6 = 48\n",
      "8 + 6 = 1.33\n",
      "8 + 6 = 2\n",
      "8 + 6 = 1\n",
      "8 + 6 = 262144\n"
     ]
    }
   ],
   "source": [
    "#36\n",
    "a = 8\n",
    "b = 6\n",
    "print(\"{} + {} = {}\".format(a, b, a+b))\n",
    "print(\"{} + {} = {}\".format(a, b, a-b))\n",
    "print(\"{} + {} = {}\".format(a, b, a*b))\n",
    "print(\"{} + {} = {:.2f}\".format(a, b, (a/b)))\n",
    "print(\"{} + {} = {}\".format(a, b, a%b))\n",
    "print(\"{} + {} = {}\".format(a, b, a//b))\n",
    "print(\"{} + {} = {}\".format(a, b, a**b))"
   ]
  }
 ],
 "metadata": {
  "kernelspec": {
   "display_name": "Python 3",
   "language": "python",
   "name": "python3"
  },
  "language_info": {
   "codemirror_mode": {
    "name": "ipython",
    "version": 3
   },
   "file_extension": ".py",
   "mimetype": "text/x-python",
   "name": "python",
   "nbconvert_exporter": "python",
   "pygments_lexer": "ipython3",
   "version": "3.12.7"
  }
 },
 "nbformat": 4,
 "nbformat_minor": 2
}
